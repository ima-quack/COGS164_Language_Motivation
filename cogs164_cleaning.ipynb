{
 "cells": [
  {
   "attachments": {},
   "cell_type": "markdown",
   "metadata": {},
   "source": [
    "# Motivation to Take Language Courses\n",
    "---\n",
    "We are all more connected to each other than ever before because of various things such as the social media, articles, and even the news; therefore because of this, exposure to various different languages become everso more common. Let’s look at  KPOP in recent years; it has had an explosion in popularity in America culture despite most of the media being in Korean rather than English. With over 58% of the student population at UCSD identifying with ethnicities where the ethnic language is not English, hence our interest lies within the motivators which bring students within our body to learn additional languages. Specifically our question is what motivators drive the acquisition of language for students currently/had taking language courses at UCSD? Are there differences in these motivators which effect acquisition and post-course language retention?Some of our factors include things like \"Familial intentions, cultural appreciation, desire to better explore, or even \"I want to get through my GEs\"\n"
   ]
  },
  {
   "attachments": {},
   "cell_type": "markdown",
   "metadata": {},
   "source": [
    "## Loading in our Data\n",
    "---\n",
    "Our survey was conducted and modeled after the Attitude/Motivation Test Battery first designed by Robert Gardner in the context of studying people's motivation to learn secondary languages.\n",
    "\n",
    "Our survey was adapted to the needs of the UCSD student demographic who were currently taking language courses as those students were the ones who aligned best with our research topic.\n",
    "\n",
    "Additional points of inspiration for our survey came from the premise of **Instrumental** and **Integrative** Motivators, "
   ]
  },
  {
   "cell_type": "code",
   "execution_count": 2,
   "metadata": {},
   "outputs": [],
   "source": [
    "# Import packages for data analysis\n",
    "\n",
    "# Data organization packages\n",
    "import pandas as pd\n",
    "import numpy  as np\n",
    "import json\n",
    "import sys \n",
    "\n",
    "# Plotting packages\n",
    "import matplotlib.pyplot as plt\n",
    "import seaborn           as sns\n",
    "custom_style = {\"axes.spines.right\": False, \"axes.spines.top\": False,}\n",
    "sns.set_style(\"ticks\", rc=custom_style)\n",
    "\n",
    "# Statistical packages\n",
    "from scipy.cluster           import hierarchy\n",
    "from sklearn                 import preprocessing\n",
    "from sklearn.cluster         import KMeans\n",
    "from sklearn.metrics         import mean_squared_error as mse\n",
    "from sklearn.decomposition   import PCA\n",
    "from statsmodels.miscmodels.ordinal_model import OrderedModel\n",
    "\n",
    "import pingouin              as pg\n",
    "\n",
    "# Other packages\n",
    "from IPython.display import clear_output"
   ]
  },
  {
   "cell_type": "code",
   "execution_count": 3,
   "metadata": {},
   "outputs": [],
   "source": [
    "# Define all the prior column names and the new column names\n",
    "prior_cols = [\n",
    "    'Timestamp', \n",
    "    'Score', \n",
    "    'What is your age in years?',\n",
    "    'What gender do you identify as?', \n",
    "    'What race(s) do you identify with?',\n",
    "    'If you selected \"Other\", please specify below. If not, please leave this question blank.',\n",
    "    'Are you an international or domestic student?',\n",
    "    'What is your primary language?',\n",
    "    'How many languages are you fluent in? (Include your primary language to the count)',\n",
    "    'Which language class are you currently taking?',\n",
    "    'How many years have you been learning/utilizing your learned language?',\n",
    "    'Do you speak this learned language at home?',\n",
    "    'Is this learned language spoken in your home?',\n",
    "    'What learning strategies do you utilize to learn the language? [Attending Class]',\n",
    "    'What learning strategies do you utilize to learn the language? [Participating in Class]',\n",
    "    'What learning strategies do you utilize to learn the language? [Apps or Software]',\n",
    "    'What learning strategies do you utilize to learn the language? [Practicing with other Individuals]',\n",
    "    'What learning strategies do you utilize to learn the language? [Listening to Audio Material]',\n",
    "    'What learning strategies do you utilize to learn the language? [Reading Books or Articles]',\n",
    "    'What learning strategies do you utilize to learn the language? [Watching movies or TV shows]',\n",
    "    'In the last 30 days, how many times have you held a short conversation (~1-5 min) with someone outside of class in your learned language?',\n",
    "    'In the last 30 days, how many times have you read something outside of class responsibilities in your learned language?',\n",
    "    'In the last 30 days, how many times have you watched/listened to something outside of class responsibilities in your learned language?',\n",
    "    'In the last 30 days, how many times have you gone out of your way to interact with others using your learned language?',\n",
    "    'In the last 30 days, how many times have you come across an opportunity to use your learned language in your daily life?',\n",
    "    'Do you use Duolingo or any other application for your learned language?',\n",
    "    'In the last 30 days, how many times have you used this application?',\n",
    "    'How much do you agree with the statement, \"I have not learned enough to use my learned language.\"',\n",
    "    'How much do you agree with the statement, \"I have learned enough to hold small conversations with native speakers.\"',\n",
    "    'How much do you agree with the statement, \"I have learned enough to hold adequate conversations with native speakers.\"',\n",
    "    'How much do you agree with the statement, \"I have learned enough to be considered fluent.\"',\n",
    "    'How much would you agree with the statement, \"I would like to continue learning this language.\"',\n",
    "    'How much would you agree with the statement, \"I would like to continue learning my learned language within a structured environment.\"',\n",
    "    'How much do you agree with the statement, \"I want to become certified fluent within my learned language.\"',\n",
    "    'How comfortable are you speaking your learned language?',\n",
    "    'How comfortable are you reading in your learned language?',\n",
    "    'How comfortable are you writing in your learned language?',\n",
    "    'How comfortable are you understanding your learned language when spoken by others?',\n",
    "    'What grade do you currently have in the class?',\n",
    "    'What is your expected grade in this class?',\n",
    "    'Why are you learning your learned language? (Please rank in order from strongest to weakest motivator) [Family]',\n",
    "    'Why are you learning your learned language? (Please rank in order from strongest to weakest motivator) [Media Consumption]',\n",
    "    'Why are you learning your learned language? (Please rank in order from strongest to weakest motivator) [General Education]',\n",
    "    'Why are you learning your learned language? (Please rank in order from strongest to weakest motivator) [Cultural Appreciation]',\n",
    "    'Why are you learning your learned language? (Please rank in order from strongest to weakest motivator) [Self-Improvement]',\n",
    "    'Why are you learning your learned language? (Please rank in order from strongest to weakest motivator) [Global Citizenship]',\n",
    "    'Why are you learning your learned language? (Please rank in order from strongest to weakest motivator) [Other]',\n",
    "    'If you placed \"Other\" higher than 7th place for the previous question, please specify here:',\n",
    "    'I wish I could speak many foreign languages perfectly.',\n",
    "    'Learning my learned language is really great.',\n",
    "    'I would get nervous if I had to speak my learned language to a stranger.',\n",
    "    'I make a point of trying to understand all of the learned language that I see and hear.',\n",
    "    'Studying my learned language is important because I will need it for my career.',\n",
    "    'I wish I could read newspapers and magazines in many foreign languages.',\n",
    "    'Studying my learned language is important because it will allow me to meet and converse with more and varied people.',\n",
    "    'I have a strong desire to know all aspects of my learned language.',\n",
    "    'Studying my learned language is important because it will make me more educated.',\n",
    "    'I wish I could have many friends who natively speak my learned language.',\n",
    "    'I would really like to learn many foreign languages.',\n",
    "    'My family have stressed the importance my learned language will have for me when I leave school.',\n",
    "    'Studying my learned language is important because it will enable me to better understand and appreciate their cultural way of life.',\n",
    "    'My family feel that I should continue studying my learned language all through school.',\n",
    "    'My family feel that it is very important for me to learn my learned language.',\n",
    "    'I want to learn my learned language so well that it will become natural to me.',\n",
    "    'Studying my learned language is important because it will be useful in getting a good job.',\n",
    "    'Studying my learned language is important because I will be able to interact more easily with other speakers.',\n",
    "    'I wish I were fluent in my learned language.',\n",
    "    'I would rather see a TV program in its own language than dubbed into my primary language.',\n",
    "    'I often find instances where I wish I could read my learned language.',\n",
    "    'I feel like I am required to take my language class.',\n",
    "    'If given the opportunity to choose, I would not learn my learned language again.',\n",
    "    'If given the opportunity to choose, I would learn my learned language again.',\n",
    "    'I find my learned language difficult to learn.',\n",
    "    'My motivation to learn my learned language in order to communicate with other speakers is:',\n",
    "    'My motivation to learn my learned language for practical purposes (e.g., to get a good job) is:',\n",
    "    'My family encourage me to learn my learned language:',\n",
    "    'Extra Credit sign in: Please select the class you are currently taking if eligible for extra credit',\n",
    "    'Extra Credit Sign In: Please type in your student ID if you are extra credit eligible. This information is solely for your instructor to identify who has completed the survey for extra credit.'\n",
    "]\n",
    "\n",
    "new_cols = [\n",
    "    'Timestamp',\n",
    "    'Score',\n",
    "    'demo_age',\n",
    "    'demo_gender',\n",
    "    'demo_race',\n",
    "    'demo_race_other',\n",
    "    'demo_domestic',\n",
    "    'demo_primary_lang',\n",
    "    'demo_num_lang',\n",
    "    'demo_class',\n",
    "    'demo_years_learning',\n",
    "    'demo_home_speaker',\n",
    "    'demo_home_spoken',\n",
    "    'engage_attend_class',\n",
    "    'engage_participate_class',\n",
    "    'engage_apps',\n",
    "    'engage_practice_others',\n",
    "    'engage_listen',\n",
    "    'engage_read',\n",
    "    'engage_watch',\n",
    "    'use_short_conv',\n",
    "    'use_read',\n",
    "    'use_watch',\n",
    "    'use_interact',\n",
    "    'use_opportunity_use',\n",
    "    'use_duolingo',\n",
    "    'use_duolingo_usage',\n",
    "    'feel_not_learned_enough',\n",
    "    'feel_small_conversations',\n",
    "    'feel_adequate_conversations',\n",
    "    'feel_considered_fluent',\n",
    "    'feel_continue_learning',\n",
    "    'feel_continue_structured',\n",
    "    'feel_certified_fluent',\n",
    "    'feel_comfortable_speaking',\n",
    "    'feel_comfortable_reading',\n",
    "    'feel_comfortable_writing',\n",
    "    'feel_comfortable_listening',\n",
    "    'feel_current_grade',\n",
    "    'feel_expected_grade',\n",
    "    'rank_family',\n",
    "    'rank_media',\n",
    "    'rank_education',\n",
    "    'rank_culture',\n",
    "    'rank_improvement',\n",
    "    'rank_citizenship',\n",
    "    'rank_other',\n",
    "    'rank_other_text',\n",
    "    'motivator_speak',\n",
    "    'motivator_great',\n",
    "    'motivator_nervous',\n",
    "    'motivator_understand',\n",
    "    'motivator_career',\n",
    "    'motivator_newspapers',\n",
    "    'motivator_converse',\n",
    "    'motivator_aspects',\n",
    "    'motivator_educated',\n",
    "    'motivator_friends',\n",
    "    'motivator_many',\n",
    "    'motivator_family_stressed',\n",
    "    'motivator_understand_cultural',\n",
    "    'motivator_family_continue',\n",
    "    'motivator_family_important',\n",
    "    'motivator_natural',\n",
    "    'motivator_job',\n",
    "    'motivator_interact',\n",
    "    'motivator_fluent',\n",
    "    'motivator_tv',\n",
    "    'motivator_read',\n",
    "    'motivator_required',\n",
    "    'motivator_choose_not',\n",
    "    'motivator_choose',\n",
    "    'motivator_difficult',\n",
    "    'motivator_communicate',\n",
    "    'motivator_practical',\n",
    "    'motivator_family_encourage',\n",
    "    'ec_class',\n",
    "    'ec_id',\n",
    "]"
   ]
  },
  {
   "cell_type": "code",
   "execution_count": 4,
   "metadata": {},
   "outputs": [
    {
     "name": "stdout",
     "output_type": "stream",
     "text": [
      "This will overwrite the original file. Are you sure you want to continue?\n",
      "Exiting without saving.\n"
     ]
    }
   ],
   "source": [
    "# Merge the two lists as a dictionary where the keys are the new cols and values are the old cols\n",
    "col_dict = dict(zip(prior_cols, new_cols))\n",
    "\n",
    "# Add a confirmation to prevent overwriting the original file\n",
    "print('This will overwrite the original file. Are you sure you want to continue?')\n",
    "confirmation = input('Type \"yes\" to continue: ')\n",
    "\n",
    "if confirmation == 'yes':\n",
    "    # Export the dictionary to a json file\n",
    "    with open('col_dict.json', 'w') as fp:\n",
    "        json.dump(col_dict, fp)\n",
    "    print('File saved')\n",
    "else:\n",
    "    print('Exiting without saving.')"
   ]
  },
  {
   "cell_type": "code",
   "execution_count": 5,
   "metadata": {},
   "outputs": [
    {
     "name": "stdout",
     "output_type": "stream",
     "text": [
      "This will overwrite the original file. Are you sure you want to continue?\n",
      "Exiting without saving.\n"
     ]
    }
   ],
   "source": [
    "# Create a different dictionary which flips the values as a \"decoding\"\n",
    "decode_dict = dict(zip(new_cols, prior_cols))\n",
    "\n",
    "# Add a confirmation to prevent overwriting the original file\n",
    "print('This will overwrite the original file. Are you sure you want to continue?')\n",
    "confirmation = input('Type \"yes\" to continue: ')\n",
    "\n",
    "if confirmation == 'yes':\n",
    "    # Export the dictionary to a json file\n",
    "    with open('decode_dict.json', 'w') as fp:\n",
    "        json.dump(decode_dict, fp)\n",
    "    print('File saved')\n",
    "else:\n",
    "    print('Exiting without saving.')"
   ]
  },
  {
   "cell_type": "code",
   "execution_count": 6,
   "metadata": {},
   "outputs": [],
   "source": [
    "# Load in data from the csv\n",
    "df = pd.read_csv('survey_responses.csv')\n",
    "\n",
    "# Remove leading and trailing whitespace from all columns\n",
    "df = df.rename( \n",
    "    columns=lambda x: x.strip()\n",
    ")\n",
    "\n",
    "# Rename the columns\n",
    "df = df.rename(columns=col_dict)"
   ]
  },
  {
   "attachments": {},
   "cell_type": "markdown",
   "metadata": {},
   "source": [
    "### Getting our Respondents Credit\n",
    "---\n",
    "This next section isn't actually relevant to our analysis -- this is just to give our participants credit for completing our survey :D"
   ]
  },
  {
   "cell_type": "code",
   "execution_count": null,
   "metadata": {},
   "outputs": [],
   "source": [
    "# Create a new dataframe of the first column and last two columns\n",
    "df_ec = df[['Timestamp', 'ec_class', 'ec_id']]\n",
    "\n",
    "# Drop empty or NaN rows which are empty for the last two columns\n",
    "df_ec = df_ec.dropna()"
   ]
  },
  {
   "cell_type": "code",
   "execution_count": null,
   "metadata": {},
   "outputs": [],
   "source": [
    "# Get the short class names\n",
    "ec_classes = ['LISP_1A', 'LISP_1D', 'LISP_1C', 'JAPN_10C', \n",
    "              'LTKO_2C', 'JAPN_20C', 'CHIN_10CD', 'CHIN_20CD',\n",
    "              'CHIN_100CN', 'LISP17', 'LISP18']\n",
    "\n",
    "# Get the class names within the dataframe\n",
    "actual_classes = df_ec['ec_class'].unique()\n",
    "\n",
    "# Replace the long class names with the short class names\n",
    "df_ec['ec_class'] = df_ec['ec_class'].replace(\n",
    "    to_replace=actual_classes,\n",
    "    value=ec_classes\n",
    ")\n",
    "\n",
    "# Split the df_ec into various different dataframes based on the class\n",
    "df_ecs = [df_ec[df_ec['ec_class'] == ec_class] for ec_class in ec_classes]"
   ]
  },
  {
   "cell_type": "code",
   "execution_count": null,
   "metadata": {},
   "outputs": [],
   "source": [
    "# Export the dataframes to csv files\n",
    "for i, df_ec in enumerate(df_ecs):\n",
    "    df_ec.to_csv(f'ec_{ec_classes[i]}.csv', index=False)"
   ]
  },
  {
   "attachments": {},
   "cell_type": "markdown",
   "metadata": {},
   "source": [
    "## Getting on to our real data cleaning\n",
    "---\n",
    "Now that we have given our participants their credit, let's clean the data.\n",
    "\n",
    "1. Validate responses are consistent. Points of concern are people who reported other to specific responses or put that they listed 0 as the number of languages they are fluent in.\n",
    "2. Standardized responses within text fields. Some of our text fields such as classes are somewhat verbose, so trimming them down makes it more readable. \n",
    "3. Remove unnecessary columns."
   ]
  },
  {
   "attachments": {},
   "cell_type": "markdown",
   "metadata": {},
   "source": [
    "### Validating Race Replies\n",
    "---\n",
    "Here we will be gathering all the responses where people listed their race as other or not listed on the list, then applying the races they stated they were back into their list of identified races."
   ]
  },
  {
   "cell_type": "code",
   "execution_count": null,
   "metadata": {},
   "outputs": [],
   "source": [
    "# Get all the races which were labeled as not currently in there\n",
    "other_races = df.loc[df['demo_race_other'].notnull(), 'demo_race_other'].tolist()\n",
    "\n",
    "# Get all the other responses which were labeled as not currently in there\n",
    "responded_races = df.loc[df['demo_race_other'].notnull(), 'demo_race'].tolist()\n",
    "\n",
    "# Remove the response 'Race or Ethnicity not listed here' from the list of responses\n",
    "for idx in range(len(responded_races)):\n",
    "    \n",
    "    # replace 'and' with ',' within the response\n",
    "    if 'and' in responded_races[idx]:\n",
    "        responded_races[idx] = responded_races[idx].replace(' and', ',')\n",
    "\n",
    "    # Split the response into a list\n",
    "    responded_races[idx] = responded_races[idx].split(', ')\n",
    "    \n",
    "    # Get rid of the white space within each response\n",
    "    responded_races[idx] = [x.strip() for x in responded_races[idx]]\n",
    "    \n",
    "    # Get rid of the extra response\n",
    "    if 'Race or Ethnicity not listed here' in responded_races[idx]: \n",
    "        responded_races[idx].remove('Race or Ethnicity not listed here')\n",
    "    \n",
    "    # Add the other race in if it was not already present\n",
    "    if 'and' in other_races[idx]:\n",
    "        other_races[idx] = other_races[idx].split(' and ')\n",
    "        for race in other_races[idx]:\n",
    "            if race not in responded_races[idx]: responded_races[idx].append(race)\n",
    "    \n",
    "    elif other_races[idx] not in responded_races[idx]:\n",
    "        responded_races[idx].append(other_races[idx])\n",
    "    \n",
    "    responded_races[idx] = ', '.join(responded_races[idx])\n",
    "\n",
    "print(responded_races)"
   ]
  },
  {
   "cell_type": "code",
   "execution_count": null,
   "metadata": {},
   "outputs": [],
   "source": [
    "# Apply the new responses to the dataframe\n",
    "df.loc[df['demo_race_other'].notnull(), 'demo_race'] = responded_races\n",
    "\n",
    "# Drop the demo race other column\n",
    "df = df.drop(columns='demo_race_other')"
   ]
  },
  {
   "attachments": {},
   "cell_type": "markdown",
   "metadata": {},
   "source": [
    "### Validating motivation ranks\n",
    "---\n",
    "Here we will be converting the responses within these columns to numbers and manually validating people who didn't properly list their rank for motivation (e.g., they chose other when one of the other categories fit well)"
   ]
  },
  {
   "cell_type": "code",
   "execution_count": null,
   "metadata": {},
   "outputs": [],
   "source": [
    "# Convert all of the rank columns to numeric\n",
    "# exclude the rank_other_text column\n",
    "rank_cols = df.columns[df.columns.str.contains('rank')].tolist()\n",
    "rank_cols.remove('rank_other_text')\n",
    "\n",
    "# Conver the columns to numeric as they are currently 1st, 2nd, 3rd, etc.\n",
    "for col in rank_cols:\n",
    "    df[col] = df[col].apply(lambda x: int(x[0]))\n"
   ]
  },
  {
   "cell_type": "code",
   "execution_count": null,
   "metadata": {},
   "outputs": [],
   "source": [
    "# Get a dataframe for each of the columns which have text responses which need to be cleaned\n",
    "rank_other_df = df[['rank_other', 'rank_other_text']]"
   ]
  },
  {
   "cell_type": "code",
   "execution_count": null,
   "metadata": {},
   "outputs": [],
   "source": [
    "need_to_fix = rank_other_df.loc[df['rank_other'] != 7]\n",
    "\n",
    "# Separate the need to fix dataframe into two dataframes one with NaN and one without\n",
    "need_to_fix_nan = need_to_fix[need_to_fix['rank_other_text'].isnull()]\n",
    "need_to_fix = need_to_fix[need_to_fix['rank_other_text'].notnull()]"
   ]
  },
  {
   "cell_type": "code",
   "execution_count": null,
   "metadata": {},
   "outputs": [],
   "source": [
    "# Get the index of the rows which need to be fixed\n",
    "need_to_fix_idx = need_to_fix.index.tolist()\n",
    "\n",
    "# Get the text responses which need to be fixed\n",
    "need_to_fix_text = need_to_fix['rank_other_text'].tolist()\n",
    "\n",
    "# Loop through the text responses to read through them\n",
    "for idx, text in zip(need_to_fix_idx, need_to_fix_text):\n",
    "\n",
    "    # Get the current values for each of the rank columns\n",
    "    rank_vals = df.loc[idx, rank_cols].tolist()\n",
    "\n",
    "    # Create a list of the rank columns based ordered by the current values\n",
    "    rank_cols_ordered = [x for _, x in sorted(zip(rank_vals, rank_cols))]\n",
    "\n",
    "    clear_output(wait=True)\n",
    "    print(f'Index: {idx}')\n",
    "    print(f'Text: {text}')\n",
    "    print(f'Current value: {df.loc[idx, \"rank_other\"]}')\n",
    "    print('Select the motivator which best fits the response:')\n",
    "    for i in range(len(rank_cols_ordered)):\n",
    "        print(f'[{i + 1}]: {rank_cols_ordered[i]}')\n",
    "\n",
    "    motivation = input('Enter the number of the motivator: ')\n",
    "\n",
    "    # If the user enters a blank, then skip the row\n",
    "    if motivation == '':\n",
    "        sys.stdout.flush()\n",
    "        sys.stdin.flush()\n",
    "        continue\n",
    "\n",
    "    # Turn the motivation into an integer\n",
    "    motivation = int(motivation) - 1\n",
    "\n",
    "    # If the motivation selected is a higher rank than the rank of other, don't swap \n",
    "    if motivation < rank_cols_ordered.index('rank_other'):\n",
    "        selected_motivation = rank_cols_ordered[int(motivation)]\n",
    "        rank_cols_ordered[int(motivation)] = 'rank_other'\n",
    "        rank_cols_ordered[rank_cols_ordered.index('rank_other')] = selected_motivation\n",
    "\n",
    "    # Move the rank_other to the end of the list\n",
    "    rank_cols_ordered.append(rank_cols_ordered.pop(rank_cols_ordered.index('rank_other')))\n",
    "\n",
    "    # Update the dataframe with the new ranks\n",
    "    for i in range(len(rank_cols_ordered)):\n",
    "        df.loc[idx, rank_cols_ordered[i]] = i + 1\n",
    "    \n",
    "    sys.stdin.flush()\n"
   ]
  },
  {
   "cell_type": "code",
   "execution_count": null,
   "metadata": {},
   "outputs": [],
   "source": [
    "# Get the index of the rows which need to be fixed which are nan\n",
    "need_to_fix_nan_idx = need_to_fix_nan.index.tolist()\n",
    "\n",
    "# Loop through the indices and set the rank_other to 7\n",
    "for idx in need_to_fix_nan_idx:\n",
    "    # Get the current values for each of the rank columns\n",
    "    rank_vals = df.loc[idx, rank_cols].tolist()\n",
    "\n",
    "    # Create a list of the rank columns based ordered by the current values\n",
    "    rank_cols_ordered = [x for _, x in sorted(zip(rank_vals, rank_cols))]\n",
    "\n",
    "    # Move the rank_other to the end of the list\n",
    "    rank_cols_ordered.append(rank_cols_ordered.pop(rank_cols_ordered.index('rank_other')))\n",
    "\n",
    "    # Update the dataframe with the new ranks\n",
    "    for i in range(len(rank_cols_ordered)):\n",
    "        df.loc[idx, rank_cols_ordered[i]] = i + 1"
   ]
  },
  {
   "attachments": {},
   "cell_type": "markdown",
   "metadata": {},
   "source": [
    "# Dropping unneeded columns\n",
    "---\n",
    "Now that we have done a bit of intense manual data cleaning, let's drop some unnecessary columns and save our frame to a CSV"
   ]
  },
  {
   "cell_type": "code",
   "execution_count": null,
   "metadata": {},
   "outputs": [],
   "source": [
    "# Drop the rank_other column\n",
    "df = df.drop(columns='rank_other')"
   ]
  },
  {
   "cell_type": "code",
   "execution_count": null,
   "metadata": {},
   "outputs": [],
   "source": [
    "# Drop the rank_other_text column\n",
    "df = df.drop(columns='rank_other_text')"
   ]
  },
  {
   "cell_type": "code",
   "execution_count": null,
   "metadata": {},
   "outputs": [],
   "source": [
    "# Drop the timestamp, score, and extra credit columns\n",
    "df = df.drop(columns=['Timestamp', 'Score', 'ec_class', 'ec_id'])"
   ]
  },
  {
   "cell_type": "code",
   "execution_count": null,
   "metadata": {},
   "outputs": [],
   "source": [
    "# Export the dataframe to a csv\n",
    "df.to_csv('cleaned_data.csv', index=False)"
   ]
  },
  {
   "attachments": {},
   "cell_type": "markdown",
   "metadata": {},
   "source": [
    "### Standardizing Values\n",
    "---\n",
    "Now that we have some columns which we have dropped and ensured are consistent in relation to more \"manualish\" checks, let's standardized the values of other columns which are text fields."
   ]
  },
  {
   "cell_type": "code",
   "execution_count": null,
   "metadata": {},
   "outputs": [],
   "source": [
    "# Read in the cleaned data\n",
    "df = pd.read_csv('cleaned_data.csv')"
   ]
  },
  {
   "cell_type": "code",
   "execution_count": null,
   "metadata": {},
   "outputs": [],
   "source": [
    "# Get all the columns where their data type is an object\n",
    "object_cols = df.columns[df.dtypes == 'object'].tolist()\n",
    "\n",
    "# List all of these out\n",
    "object_cols"
   ]
  },
  {
   "cell_type": "code",
   "execution_count": null,
   "metadata": {},
   "outputs": [],
   "source": [
    "# Don't actually need the use duolingo column so we can drop that\n",
    "df.drop(columns='use_duolingo', inplace=True)"
   ]
  },
  {
   "cell_type": "code",
   "execution_count": null,
   "metadata": {},
   "outputs": [],
   "source": [
    "# Replace all of the yes and no with 1 and 0\n",
    "df = df.replace({'Yes': 1, 'No': 0})"
   ]
  },
  {
   "cell_type": "code",
   "execution_count": null,
   "metadata": {},
   "outputs": [],
   "source": [
    "# Within the demo_gender column replace the values with 2, 1, or 0\n",
    "gender_mapping = {'Female': 0, 'Male': 1, 'Prefer not to Say': 2, 'Non Binary': 2}\n",
    "\n",
    "df['demo_gender'] = df['demo_gender'].replace(gender_mapping)"
   ]
  },
  {
   "cell_type": "code",
   "execution_count": null,
   "metadata": {},
   "outputs": [],
   "source": [
    "# Replace all Domestic and International with 1 and 0\n",
    "df = df.replace({'Domestic': 1, 'International': 0})"
   ]
  },
  {
   "cell_type": "code",
   "execution_count": null,
   "metadata": {},
   "outputs": [],
   "source": [
    "# Get a list of all the unique values of demo_class\n",
    "demo_class_unique = df['demo_class'].unique().tolist()"
   ]
  },
  {
   "cell_type": "code",
   "execution_count": null,
   "metadata": {},
   "outputs": [],
   "source": [
    "# Replace all of the classes with a standard format\n",
    "\n",
    "class_mapping = {\n",
    "    'LISP 1A Spanish Conversation' : 'LISP_1A',\n",
    "    'LISP 1D Spanish Conversation' : 'LISP_1D',\n",
    "    'LISP 1C Spanish Conversation' : 'LISP_1C',\n",
    "    'CHIN 10CD First Year Chinese/Dialect III' : 'CHIN_10CD',\n",
    "    'JAPN 10C First Year Japanese III' : 'JAPN_10C',\n",
    "    'LTKO 2C Intermediate Korean: Second Year III' : 'LTKO_2C',\n",
    "    'JAPN 20C Second Year Japanese III' : 'JAPN_20C',\n",
    "    'CHIN 20CD Second Year Chinese/Dialect III' : 'CHIN_20CD',\n",
    "    'CHIN 100CN Third Year Chinese/Non Native III' : 'CHIN_100CN',\n",
    "    'LISP17 Intermediate Spanish for the Social Sciences' : 'LISP_17',\n",
    "    'LISP18 Intermediate Spanish for the Health Sciences' : 'LISP_18',\n",
    "}\n",
    "\n",
    "# Replace the values in the demo_class column\n",
    "df['demo_class'] = df['demo_class'].replace(class_mapping)"
   ]
  },
  {
   "cell_type": "code",
   "execution_count": null,
   "metadata": {},
   "outputs": [],
   "source": [
    "# Replace all of the engagement values with numerical values\n",
    "engage_mapping = {\n",
    "    'Very Often': 1,\n",
    "    'Often': 2,\n",
    "    'Sometimes': 3,\n",
    "    'Occasionally': 4,\n",
    "    'Infrequently': 5,\n",
    "    'Rarely' : 6,\n",
    "    'Never' : 7\n",
    "}\n",
    "\n",
    "# Replace the values in the engage_apps column\n",
    "df = df.replace(engage_mapping)"
   ]
  },
  {
   "cell_type": "code",
   "execution_count": null,
   "metadata": {},
   "outputs": [],
   "source": [
    "# Assign individuals who put 0 as their number of languages to 1\n",
    "df.loc[df['demo_num_lang'] == 0, 'demo_num_lang'] = 1"
   ]
  },
  {
   "cell_type": "code",
   "execution_count": null,
   "metadata": {},
   "outputs": [],
   "source": [
    "# Save the cleaned data to a csv\n",
    "df.to_csv('cleaned_data.csv', index=False)"
   ]
  }
 ],
 "metadata": {
  "kernelspec": {
   "display_name": "Python 3",
   "language": "python",
   "name": "python3"
  },
  "language_info": {
   "codemirror_mode": {
    "name": "ipython",
    "version": 3
   },
   "file_extension": ".py",
   "mimetype": "text/x-python",
   "name": "python",
   "nbconvert_exporter": "python",
   "pygments_lexer": "ipython3",
   "version": "3.11.2"
  },
  "orig_nbformat": 4
 },
 "nbformat": 4,
 "nbformat_minor": 2
}
