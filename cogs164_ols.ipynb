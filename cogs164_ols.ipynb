{
 "cells": [
  {
   "attachments": {},
   "cell_type": "markdown",
   "metadata": {},
   "source": [
    "# Linear Regressions\n",
    "---\n",
    "Now that we have clusters of the questions into different types of groups, we will be using them to generate linear models to see how they predict the usage of language.\n",
    "\n",
    "Each model will include:\n",
    "- How many years have you been learning/utilizing your learned language?\n",
    "- Do you speak this learned language at home?\n",
    "- Is this learned language spoken in your home?\n",
    "\n",
    "To prevent correlations."
   ]
  },
  {
   "cell_type": "code",
   "execution_count": 15,
   "metadata": {},
   "outputs": [],
   "source": [
    "# Import Packages\n",
    "import pandas as pd\n",
    "import numpy as np\n",
    "import json\n",
    "\n",
    "# Plotting Packages\n",
    "import matplotlib.pyplot as plt\n",
    "import seaborn as sns\n",
    "\n",
    "# Stats Packages (OLS/Linear Regression)\n",
    "import statsmodels.api as sm\n",
    "from statsmodels.formula.api import ols\n",
    "from sklearn.metrics import mean_squared_error as mse\n",
    "from sklearn.metrics import r2_score\n",
    "\n",
    "# Import Data\n",
    "df = pd.read_csv('cleaned_data.csv')\n",
    "all_motives = json.load(open('motivator_clusters.json'))\n",
    "\n",
    "family_motives        = all_motives['family'] + ['rank_family']\n",
    "education_motives     = all_motives['education'] + ['rank_education']\n",
    "media_motives         = all_motives['media'] + ['rank_media']\n",
    "self_improve_motives  = all_motives['self_improve'] + ['rank_improvement']\n",
    "culture_motives       = all_motives['culture'] + ['rank_culture']\n",
    "citizenship_motives   = all_motives['citizenship'] + ['rank_citizenship']\n",
    "uncategorized_motives = all_motives['uncategorized']\n",
    "\n",
    "rank_only             = ['rank_family', 'rank_education', 'rank_media', 'rank_improvement', 'rank_culture', 'rank_citizenship']"
   ]
  },
  {
   "cell_type": "code",
   "execution_count": 16,
   "metadata": {},
   "outputs": [],
   "source": [
    "# Current values for rank is 1 to 6 with 1 being the most important\n",
    "# Flip the values so that 1 is the least important and 6 is the most important\n",
    "df[rank_only] = df[rank_only].apply(lambda x: 7 - x)"
   ]
  },
  {
   "cell_type": "code",
   "execution_count": 17,
   "metadata": {},
   "outputs": [],
   "source": [
    "# Get all the columns of the dataframe which have 'feel_' in it \n",
    "feel_cols = [col for col in df.columns if 'feel_' in col]\n",
    "# Remove 'feel_current_grade' and 'feel_expected_grade' from the list\n",
    "feel_cols.remove('feel_current_grade')\n",
    "feel_cols.remove('feel_expected_grade')\n",
    "\n",
    "# Get the columns of our possible confounds\n",
    "confounds = ['demo_years_learning', 'demo_home_speaker', 'demo_home_spoken']\n",
    "confounds = ' + '.join(confounds)"
   ]
  },
  {
   "cell_type": "code",
   "execution_count": 18,
   "metadata": {},
   "outputs": [],
   "source": [
    "# Remove outliers from the dataframe based on feel_cols values\n",
    "for col in feel_cols:\n",
    "    df = df[np.abs(df[col] - df[col].mean()) <= (3 * df[col].std())]"
   ]
  },
  {
   "cell_type": "code",
   "execution_count": 20,
   "metadata": {},
   "outputs": [],
   "source": [
    "# Formulas\n",
    "family_eq        = '~ 1 + ' + ' + '.join(family_motives) + ' + ' + confounds\n",
    "education_eq     = '~ 1 + ' + ' + '.join(education_motives) + ' + ' + confounds\n",
    "media_eq         = '~ 1 + ' + ' + '.join(media_motives) + ' + ' + confounds\n",
    "self_improve_eq  = '~ 1 + ' + ' + '.join(self_improve_motives) + ' + ' + confounds\n",
    "culture_eq       = '~ 1 + ' + ' + '.join(culture_motives) + ' + ' + confounds\n",
    "citizenship_eq   = '~ 1 + ' + ' + '.join(citizenship_motives) + ' + ' + confounds\n",
    "uncategorized_eq = '~ 1 + ' + ' + '.join(uncategorized_motives) + ' + ' + confounds"
   ]
  },
  {
   "cell_type": "code",
   "execution_count": 21,
   "metadata": {},
   "outputs": [],
   "source": [
    "def computeModel(dependent: list[str], motives: list[str]) -> list:\n",
    "    '''\n",
    "    Generates a list of the ols models computed for the dependent variable and formula\n",
    "\n",
    "    Parameters\n",
    "    ----------\n",
    "    dependent : str\n",
    "        The dependent variable\n",
    "    \n",
    "    formula : str\n",
    "        The formula to use for the ols model\n",
    "    \n",
    "    Returns\n",
    "    -------\n",
    "    list\n",
    "        A list of the ols models computed for the dependent variable and formula\n",
    "    '''\n",
    "    global confounds\n",
    "    models = []\n",
    "    formula = '~ 1 +' + ' + '.join(motives) + ' + ' + confounds\n",
    "    for col in dependent:\n",
    "        model = ols((col + formula), data=df).fit()\n",
    "        # Check to see if any of the p-values for the motives are less than 0.05\n",
    "        if any(model.pvalues[1:-3] < 0.05):\n",
    "            models.append(model)\n",
    "    return models"
   ]
  },
  {
   "cell_type": "code",
   "execution_count": 22,
   "metadata": {},
   "outputs": [],
   "source": [
    "def getR2(models: list) -> list:\n",
    "    '''\n",
    "    Generates a list of the r2 values for the models\n",
    "\n",
    "    Parameters\n",
    "    ----------\n",
    "    models : list\n",
    "        A list of the ols models\n",
    "    \n",
    "    Returns\n",
    "    -------\n",
    "    list\n",
    "        A list of the r2 values for the models\n",
    "    '''\n",
    "    r2 = []\n",
    "    for model in models:\n",
    "        r2.append(model.rsquared)\n",
    "    return r2"
   ]
  },
  {
   "cell_type": "code",
   "execution_count": 23,
   "metadata": {},
   "outputs": [],
   "source": [
    "def getFValues(models: list) -> list:\n",
    "    '''\n",
    "    Generates a list of the f values for the models\n",
    "\n",
    "    Parameters\n",
    "    ----------\n",
    "    models : list\n",
    "        A list of the ols models\n",
    "    \n",
    "    Returns\n",
    "    -------\n",
    "    list\n",
    "        A list of the f values for the models\n",
    "    '''\n",
    "    fvalues = []\n",
    "    for model in models:\n",
    "        fvalues.append(model.fvalue)\n",
    "    return fvalues"
   ]
  },
  {
   "cell_type": "code",
   "execution_count": 24,
   "metadata": {},
   "outputs": [],
   "source": [
    "family_models        = computeModel(feel_cols, family_motives)\n",
    "education_models     = computeModel(feel_cols, education_motives)\n",
    "media_models         = computeModel(feel_cols, media_motives)\n",
    "self_improve_models  = computeModel(feel_cols, self_improve_motives)\n",
    "culture_models       = computeModel(feel_cols, culture_motives)\n",
    "citizenship_models   = computeModel(feel_cols, citizenship_motives)\n",
    "uncategorized_models = computeModel(feel_cols, uncategorized_motives)"
   ]
  },
  {
   "cell_type": "code",
   "execution_count": 33,
   "metadata": {},
   "outputs": [
    {
     "name": "stdout",
     "output_type": "stream",
     "text": [
      "                               OLS Regression Results                               \n",
      "====================================================================================\n",
      "Dep. Variable:     feel_continue_structured   R-squared:                       0.241\n",
      "Model:                                  OLS   Adj. R-squared:                  0.166\n",
      "Method:                       Least Squares   F-statistic:                     3.183\n",
      "Date:                      Sun, 11 Jun 2023   Prob (F-statistic):            0.00348\n",
      "Time:                              16:59:10   Log-Likelihood:                -183.45\n",
      "No. Observations:                        89   AIC:                             384.9\n",
      "Df Residuals:                            80   BIC:                             407.3\n",
      "Df Model:                                 8                                         \n",
      "Covariance Type:                  nonrobust                                         \n",
      "==============================================================================================\n",
      "                                 coef    std err          t      P>|t|      [0.025      0.975]\n",
      "----------------------------------------------------------------------------------------------\n",
      "Intercept                      6.1981      0.519     11.942      0.000       5.165       7.231\n",
      "motivator_family_continue      0.3015      0.149      2.020      0.047       0.005       0.598\n",
      "motivator_family_encourage    -0.2092      0.120     -1.745      0.085      -0.448       0.029\n",
      "motivator_family_stressed      0.0225      0.109      0.206      0.837      -0.195       0.240\n",
      "motivator_family_important     0.1826      0.168      1.089      0.280      -0.151       0.516\n",
      "rank_family                   -0.0864      0.151     -0.573      0.568      -0.386       0.214\n",
      "demo_years_learning           -0.0414      0.113     -0.365      0.716      -0.267       0.184\n",
      "demo_home_speaker              1.2783      0.886      1.443      0.153      -0.485       3.041\n",
      "demo_home_spoken              -0.0045      0.852     -0.005      0.996      -1.700       1.691\n",
      "==============================================================================\n",
      "Omnibus:                        3.151   Durbin-Watson:                   1.694\n",
      "Prob(Omnibus):                  0.207   Jarque-Bera (JB):                2.932\n",
      "Skew:                          -0.443   Prob(JB):                        0.231\n",
      "Kurtosis:                       2.933   Cond. No.                         69.6\n",
      "==============================================================================\n",
      "\n",
      "Notes:\n",
      "[1] Standard Errors assume that the covariance matrix of the errors is correctly specified.\n"
     ]
    }
   ],
   "source": [
    "print(family_models[1].summary())"
   ]
  },
  {
   "cell_type": "code",
   "execution_count": 26,
   "metadata": {},
   "outputs": [
    {
     "name": "stdout",
     "output_type": "stream",
     "text": [
      "                              OLS Regression Results                              \n",
      "==================================================================================\n",
      "Dep. Variable:     feel_considered_fluent   R-squared:                       0.588\n",
      "Model:                                OLS   Adj. R-squared:                  0.547\n",
      "Method:                     Least Squares   F-statistic:                     14.30\n",
      "Date:                    Sun, 11 Jun 2023   Prob (F-statistic):           9.97e-13\n",
      "Time:                            16:57:12   Log-Likelihood:                -185.89\n",
      "No. Observations:                      89   AIC:                             389.8\n",
      "Df Residuals:                          80   BIC:                             412.2\n",
      "Df Model:                               8                                         \n",
      "Covariance Type:                nonrobust                                         \n",
      "========================================================================================\n",
      "                           coef    std err          t      P>|t|      [0.025      0.975]\n",
      "----------------------------------------------------------------------------------------\n",
      "Intercept                4.1339      0.976      4.234      0.000       2.191       6.077\n",
      "motivator_required       0.0549      0.079      0.691      0.491      -0.103       0.213\n",
      "motivator_choose_not     0.0292      0.096      0.302      0.763      -0.163       0.221\n",
      "motivator_nervous       -0.3511      0.098     -3.581      0.001      -0.546      -0.156\n",
      "motivator_difficult     -0.1900      0.105     -1.812      0.074      -0.399       0.019\n",
      "rank_education          -0.0699      0.170     -0.410      0.683      -0.409       0.269\n",
      "demo_years_learning      0.4974      0.114      4.357      0.000       0.270       0.725\n",
      "demo_home_speaker        2.1721      0.869      2.500      0.014       0.443       3.901\n",
      "demo_home_spoken         0.1213      0.767      0.158      0.875      -1.404       1.647\n",
      "==============================================================================\n",
      "Omnibus:                        0.536   Durbin-Watson:                   1.881\n",
      "Prob(Omnibus):                  0.765   Jarque-Bera (JB):                0.345\n",
      "Skew:                          -0.152   Prob(JB):                        0.842\n",
      "Kurtosis:                       3.022   Cond. No.                         61.9\n",
      "==============================================================================\n",
      "\n",
      "Notes:\n",
      "[1] Standard Errors assume that the covariance matrix of the errors is correctly specified.\n"
     ]
    }
   ],
   "source": [
    "print(education_models[3].summary())"
   ]
  },
  {
   "cell_type": "code",
   "execution_count": 29,
   "metadata": {},
   "outputs": [
    {
     "name": "stdout",
     "output_type": "stream",
     "text": [
      "                                OLS Regression Results                                \n",
      "======================================================================================\n",
      "Dep. Variable:     feel_comfortable_listening   R-squared:                       0.368\n",
      "Model:                                    OLS   Adj. R-squared:                  0.297\n",
      "Method:                         Least Squares   F-statistic:                     5.122\n",
      "Date:                        Sun, 11 Jun 2023   Prob (F-statistic):           1.86e-05\n",
      "Time:                                16:58:53   Log-Likelihood:                -180.85\n",
      "No. Observations:                          89   AIC:                             381.7\n",
      "Df Residuals:                              79   BIC:                             406.6\n",
      "Df Model:                                   9                                         \n",
      "Covariance Type:                    nonrobust                                         \n",
      "========================================================================================\n",
      "                           coef    std err          t      P>|t|      [0.025      0.975]\n",
      "----------------------------------------------------------------------------------------\n",
      "Intercept                1.2671      1.092      1.160      0.249      -0.907       3.441\n",
      "motivator_newspapers    -0.2043      0.102     -2.002      0.049      -0.407      -0.001\n",
      "motivator_tv             0.1476      0.105      1.412      0.162      -0.060       0.356\n",
      "motivator_understand     0.2727      0.099      2.742      0.008       0.075       0.471\n",
      "motivator_speak          0.0411      0.142      0.289      0.773      -0.242       0.324\n",
      "motivator_many           0.0635      0.129      0.492      0.624      -0.194       0.321\n",
      "rank_media               0.3001      0.159      1.889      0.063      -0.016       0.616\n",
      "demo_years_learning      0.4330      0.111      3.913      0.000       0.213       0.653\n",
      "demo_home_speaker        0.2358      0.834      0.283      0.778      -1.425       1.897\n",
      "demo_home_spoken         1.0261      0.720      1.424      0.158      -0.408       2.460\n",
      "==============================================================================\n",
      "Omnibus:                        3.798   Durbin-Watson:                   1.824\n",
      "Prob(Omnibus):                  0.150   Jarque-Bera (JB):                3.322\n",
      "Skew:                          -0.381   Prob(JB):                        0.190\n",
      "Kurtosis:                       2.439   Cond. No.                         98.5\n",
      "==============================================================================\n",
      "\n",
      "Notes:\n",
      "[1] Standard Errors assume that the covariance matrix of the errors is correctly specified.\n"
     ]
    }
   ],
   "source": [
    "print(media_models[6].summary())"
   ]
  },
  {
   "cell_type": "code",
   "execution_count": 163,
   "metadata": {},
   "outputs": [
    {
     "name": "stdout",
     "output_type": "stream",
     "text": [
      "                               OLS Regression Results                               \n",
      "====================================================================================\n",
      "Dep. Variable:     feel_small_conversations   R-squared:                       0.271\n",
      "Model:                                  OLS   Adj. R-squared:                  0.211\n",
      "Method:                       Least Squares   F-statistic:                     4.509\n",
      "Date:                      Fri, 09 Jun 2023   Prob (F-statistic):           0.000260\n",
      "Time:                              13:06:05   Log-Likelihood:                -199.92\n",
      "No. Observations:                        93   AIC:                             415.8\n",
      "Df Residuals:                            85   BIC:                             436.1\n",
      "Df Model:                                 7                                         \n",
      "Covariance Type:                  nonrobust                                         \n",
      "=======================================================================================\n",
      "                          coef    std err          t      P>|t|      [0.025      0.975]\n",
      "---------------------------------------------------------------------------------------\n",
      "Intercept               3.5761      1.044      3.427      0.001       1.501       5.651\n",
      "motivator_practical     0.1617      0.113      1.430      0.156      -0.063       0.386\n",
      "motivator_career        0.0170      0.108      0.157      0.876      -0.198       0.232\n",
      "motivator_job          -0.0764      0.114     -0.671      0.504      -0.303       0.150\n",
      "rank_improvement        0.4189      0.197      2.130      0.036       0.028       0.810\n",
      "demo_years_learning     0.1859      0.111      1.683      0.096      -0.034       0.406\n",
      "demo_home_speaker       2.0584      0.863      2.385      0.019       0.343       3.774\n",
      "demo_home_spoken        0.0987      0.803      0.123      0.902      -1.497       1.695\n",
      "==============================================================================\n",
      "Omnibus:                        7.409   Durbin-Watson:                   2.055\n",
      "Prob(Omnibus):                  0.025   Jarque-Bera (JB):                6.871\n",
      "Skew:                          -0.609   Prob(JB):                       0.0322\n",
      "Kurtosis:                       3.538   Cond. No.                         62.9\n",
      "==============================================================================\n",
      "\n",
      "Notes:\n",
      "[1] Standard Errors assume that the covariance matrix of the errors is correctly specified.\n"
     ]
    }
   ],
   "source": [
    "print(self_improve_models[0].summary())"
   ]
  },
  {
   "cell_type": "code",
   "execution_count": 189,
   "metadata": {},
   "outputs": [
    {
     "data": {
      "text/plain": [
       "0     7.8\n",
       "1     4.6\n",
       "2     8.2\n",
       "3     8.2\n",
       "4     9.2\n",
       "     ... \n",
       "88    7.2\n",
       "89    6.2\n",
       "90    8.2\n",
       "91    3.2\n",
       "92    7.4\n",
       "Length: 93, dtype: float64"
      ]
     },
     "execution_count": 189,
     "metadata": {},
     "output_type": "execute_result"
    }
   ],
   "source": [
    "total = df[family_motives].sum(axis=1)\n",
    "#total\n",
    "total/(len(family_motives))"
   ]
  },
  {
   "cell_type": "code",
   "execution_count": 212,
   "metadata": {},
   "outputs": [],
   "source": [
    "# Make a composite score which is the average of the sum of scores from each motives\n",
    "df['family_score']        = df[family_motives].sum(axis=1)/len(family_motives)\n",
    "df['education_score']     = df[education_motives].sum(axis=1)/len(education_motives)\n",
    "df['media_score']         = df[media_motives].sum(axis=1)/len(media_motives)\n",
    "df['self_improve_score']  = df[self_improve_motives].sum(axis=1)/len(self_improve_motives)\n",
    "df['culture_score']       = df[culture_motives].sum(axis=1)/len(culture_motives)\n",
    "df['citizenship_score']   = df[citizenship_motives].sum(axis=1)/len(citizenship_motives)\n",
    "df['uncategorized_score'] = df[uncategorized_motives].sum(axis=1)/len(uncategorized_motives)\n",
    "\n",
    "\n",
    "# Make one large model for all the motives\n",
    "composite_scores = ['family_score', 'education_score', 'media_score', 'self_improve_score', 'culture_score', 'citizenship_score', 'uncategorized_score']\n",
    "\n",
    "all_models = computeModel(feel_cols, composite_scores)"
   ]
  },
  {
   "cell_type": "code",
   "execution_count": 231,
   "metadata": {},
   "outputs": [
    {
     "name": "stdout",
     "output_type": "stream",
     "text": [
      "                                 OLS Regression Results                                \n",
      "=======================================================================================\n",
      "Dep. Variable:     feel_adequate_conversations   R-squared:                       0.487\n",
      "Model:                                     OLS   Adj. R-squared:                  0.425\n",
      "Method:                          Least Squares   F-statistic:                     7.790\n",
      "Date:                         Fri, 09 Jun 2023   Prob (F-statistic):           1.19e-08\n",
      "Time:                                 15:07:12   Log-Likelihood:                -196.75\n",
      "No. Observations:                           93   AIC:                             415.5\n",
      "Df Residuals:                               82   BIC:                             443.4\n",
      "Df Model:                                   10                                         \n",
      "Covariance Type:                     nonrobust                                         \n",
      "=======================================================================================\n",
      "                          coef    std err          t      P>|t|      [0.025      0.975]\n",
      "---------------------------------------------------------------------------------------\n",
      "Intercept               2.3624      1.763      1.340      0.184      -1.145       5.870\n",
      "family_score           -0.1987      0.129     -1.545      0.126      -0.454       0.057\n",
      "education_score        -0.4769      0.175     -2.718      0.008      -0.826      -0.128\n",
      "media_score             0.2849      0.172      1.654      0.102      -0.058       0.628\n",
      "self_improve_score      0.0479      0.155      0.309      0.758      -0.260       0.356\n",
      "culture_score           0.4166      0.279      1.494      0.139      -0.138       0.971\n",
      "citizenship_score       0.4675      0.265      1.766      0.081      -0.059       0.994\n",
      "uncategorized_score    -0.5667      0.179     -3.172      0.002      -0.922      -0.211\n",
      "demo_years_learning     0.2998      0.114      2.627      0.010       0.073       0.527\n",
      "demo_home_speaker       1.7467      0.957      1.826      0.071      -0.156       3.650\n",
      "demo_home_spoken       -0.2157      0.861     -0.250      0.803      -1.929       1.498\n",
      "==============================================================================\n",
      "Omnibus:                        9.531   Durbin-Watson:                   2.246\n",
      "Prob(Omnibus):                  0.009   Jarque-Bera (JB):                9.690\n",
      "Skew:                          -0.644   Prob(JB):                      0.00787\n",
      "Kurtosis:                       3.917   Cond. No.                         142.\n",
      "==============================================================================\n",
      "\n",
      "Notes:\n",
      "[1] Standard Errors assume that the covariance matrix of the errors is correctly specified.\n"
     ]
    }
   ],
   "source": [
    "print(all_models[2].summary())"
   ]
  },
  {
   "cell_type": "code",
   "execution_count": 215,
   "metadata": {},
   "outputs": [],
   "source": [
    "# Make a \"crazy\" model which uses every motive and rank as a predictor\n",
    "crazy_models = computeModel(feel_cols, family_motives + education_motives + media_motives + self_improve_motives + culture_motives + citizenship_motives + uncategorized_motives)"
   ]
  },
  {
   "cell_type": "code",
   "execution_count": 228,
   "metadata": {},
   "outputs": [
    {
     "name": "stdout",
     "output_type": "stream",
     "text": [
      "                                OLS Regression Results                                \n",
      "======================================================================================\n",
      "Dep. Variable:     feel_comfortable_listening   R-squared:                       0.627\n",
      "Model:                                    OLS   Adj. R-squared:                  0.387\n",
      "Method:                         Least Squares   F-statistic:                     2.613\n",
      "Date:                        Fri, 09 Jun 2023   Prob (F-statistic):           0.000609\n",
      "Time:                                13:26:35   Log-Likelihood:                -166.45\n",
      "No. Observations:                          93   AIC:                             406.9\n",
      "Df Residuals:                              56   BIC:                             500.6\n",
      "Df Model:                                  36                                         \n",
      "Covariance Type:                    nonrobust                                         \n",
      "=================================================================================================\n",
      "                                    coef    std err          t      P>|t|      [0.025      0.975]\n",
      "-------------------------------------------------------------------------------------------------\n",
      "Intercept                         0.0388      0.028      1.364      0.178      -0.018       0.096\n",
      "motivator_family_continue         0.2101      0.141      1.491      0.141      -0.072       0.492\n",
      "motivator_family_encourage       -0.2082      0.170     -1.221      0.227      -0.550       0.133\n",
      "motivator_family_stressed         0.0877      0.112      0.785      0.436      -0.136       0.311\n",
      "motivator_family_important       -0.0718      0.210     -0.342      0.734      -0.493       0.349\n",
      "rank_family                       0.1412      0.166      0.849      0.400      -0.192       0.474\n",
      "motivator_required                0.0379      0.081      0.470      0.640      -0.124       0.199\n",
      "motivator_choose_not             -0.1249      0.133     -0.937      0.353      -0.392       0.142\n",
      "motivator_nervous                -0.2758      0.102     -2.698      0.009      -0.481      -0.071\n",
      "motivator_difficult              -0.0516      0.116     -0.444      0.659      -0.285       0.181\n",
      "rank_education                    0.3216      0.212      1.517      0.135      -0.103       0.746\n",
      "motivator_newspapers             -0.3078      0.127     -2.431      0.018      -0.562      -0.054\n",
      "motivator_tv                      0.2479      0.117      2.113      0.039       0.013       0.483\n",
      "motivator_understand              0.2085      0.112      1.866      0.067      -0.015       0.432\n",
      "motivator_speak                   0.1746      0.178      0.982      0.330      -0.181       0.531\n",
      "motivator_many                    0.0245      0.147      0.167      0.868      -0.269       0.318\n",
      "rank_media                       -0.1555      0.174     -0.894      0.375      -0.504       0.193\n",
      "motivator_practical               0.2929      0.129      2.267      0.027       0.034       0.552\n",
      "motivator_career                  0.0687      0.119      0.577      0.566      -0.170       0.307\n",
      "motivator_job                     0.0253      0.127      0.200      0.842      -0.229       0.279\n",
      "rank_improvement                  0.0722      0.209      0.345      0.731      -0.347       0.491\n",
      "motivator_educated               -0.0017      0.221     -0.008      0.994      -0.444       0.440\n",
      "motivator_converse               -0.1146      0.233     -0.492      0.625      -0.581       0.352\n",
      "motivator_understand_cultural    -0.0453      0.193     -0.234      0.816      -0.432       0.342\n",
      "motivator_interact               -0.0233      0.189     -0.123      0.902      -0.402       0.355\n",
      "rank_culture                      0.2353      0.261      0.902      0.371      -0.288       0.758\n",
      "motivator_great                   0.0054      0.234      0.023      0.982      -0.463       0.474\n",
      "motivator_communicate             0.1265      0.176      0.720      0.474      -0.225       0.479\n",
      "motivator_natural                -0.3299      0.228     -1.450      0.153      -0.786       0.126\n",
      "motivator_fluent                  0.0015      0.229      0.006      0.995      -0.458       0.461\n",
      "motivator_aspects                 0.4725      0.195      2.419      0.019       0.081       0.864\n",
      "rank_citizenship                  0.2006      0.194      1.033      0.306      -0.188       0.590\n",
      "motivator_choose                 -0.1071      0.124     -0.862      0.392      -0.356       0.142\n",
      "motivator_friends                -0.1171      0.152     -0.772      0.444      -0.421       0.187\n",
      "motivator_read                    0.0337      0.116      0.289      0.774      -0.200       0.267\n",
      "demo_years_learning               0.4544      0.120      3.787      0.000       0.214       0.695\n",
      "demo_home_speaker                 0.0761      1.001      0.076      0.940      -1.928       2.080\n",
      "demo_home_spoken                  0.1313      1.018      0.129      0.898      -1.908       2.170\n",
      "==============================================================================\n",
      "Omnibus:                        1.310   Durbin-Watson:                   1.948\n",
      "Prob(Omnibus):                  0.519   Jarque-Bera (JB):                1.245\n",
      "Skew:                          -0.153   Prob(JB):                        0.537\n",
      "Kurtosis:                       2.523   Cond. No.                     4.51e+17\n",
      "==============================================================================\n",
      "\n",
      "Notes:\n",
      "[1] Standard Errors assume that the covariance matrix of the errors is correctly specified.\n",
      "[2] The smallest eigenvalue is 7.06e-31. This might indicate that there are\n",
      "strong multicollinearity problems or that the design matrix is singular.\n"
     ]
    }
   ],
   "source": [
    "print(crazy_models[10].summary())"
   ]
  },
  {
   "cell_type": "code",
   "execution_count": null,
   "metadata": {},
   "outputs": [],
   "source": []
  }
 ],
 "metadata": {
  "kernelspec": {
   "display_name": "Python 3",
   "language": "python",
   "name": "python3"
  },
  "language_info": {
   "codemirror_mode": {
    "name": "ipython",
    "version": 3
   },
   "file_extension": ".py",
   "mimetype": "text/x-python",
   "name": "python",
   "nbconvert_exporter": "python",
   "pygments_lexer": "ipython3",
   "version": "3.11.2"
  },
  "orig_nbformat": 4
 },
 "nbformat": 4,
 "nbformat_minor": 2
}
